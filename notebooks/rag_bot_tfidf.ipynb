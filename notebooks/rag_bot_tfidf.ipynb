{
  "nbformat": 4,
  "nbformat_minor": 0,
  "metadata": {
    "colab": {
      "provenance": [],
      "authorship_tag": "ABX9TyOxlXRNgzeUDJGO+84V6TSV",
      "include_colab_link": true
    },
    "kernelspec": {
      "name": "python3",
      "display_name": "Python 3"
    },
    "language_info": {
      "name": "python"
    }
  },
  "cells": [
    {
      "cell_type": "markdown",
      "metadata": {
        "id": "view-in-github",
        "colab_type": "text"
      },
      "source": [
        "<a href=\"https://colab.research.google.com/github/CHATGPTUA/ai-journey/blob/main/notebooks/rag_bot_tfidf.ipynb\" target=\"_parent\"><img src=\"https://colab.research.google.com/assets/colab-badge.svg\" alt=\"Open In Colab\"/></a>"
      ]
    },
    {
      "cell_type": "code",
      "execution_count": null,
      "metadata": {
        "colab": {
          "base_uri": "https://localhost:8080/"
        },
        "id": "NabB9poMcxAE",
        "outputId": "6231a2b2-f775-409d-b881-a5513e364163"
      },
      "outputs": [
        {
          "output_type": "stream",
          "name": "stdout",
          "text": [
            "Готово! Задавай вопросы по содержимому one-pager.md.\n",
            "Например: Какие мои цели на 6 месяцев?\n",
            "Чтобы выйти, напиши: выход\n",
            "\n",
            "Ваш вопрос: Какие мои цели на 6 месяцев?\n",
            "\n",
            "Вопрос: Какие мои цели на 6 месяцев?\n",
            "\n",
            "Наиболее релевантные фрагменты:\n",
            "\n",
            "[1] (сходство=0.101)\n",
            "--- ## 🔑 Мои сильные стороны - Предпринимательское мышление и понимание ценности для клиента. -\n",
            "Навык коммуникации и умение продавать. - Настойчивость и дисциплина (готов идти шаг за шагом). ---\n",
            "## 🗓 План на ближайшие 3 месяца - Сделать 2–3 рабочих мини-проекта (бот, дашборд, AI-ассистент). -\n",
            "Получить первый платёж за внедрение AI-решения. - Начать публиковать кейсы и формировать личный\n",
            "бренд. --- ## 📊 Метрики успеха - Первый платный пилот у клиента → к концу 2–3 месяца. - Экономия\n",
            "времени/денег у клиента, подтверждённая кейсом. - Минимум 1–2 публикации в месяц о\n",
            "прогрессе/результатах. --- ## ✅ Текущий статус - День 1: обучил модель «Hello AI» → точность ~97.5%.\n",
            "\n",
            "[2] (сходство=0.038)\n",
            "# 📝 One-pager: мой путь в AI-бизнес ## 🎯 Зачем я иду в AI - Освоить инструмент, который уже меняет\n",
            "бизнесы и создаёт новые возможности. - Автоматизировать рутину (поддержка, продажи, аналитика). -\n",
            "Построить дополнительный источник дохода через внедрение AI-решений. - Быть впереди — работать с\n",
            "технологиями, которые будут определять рынок завтра. --- ## 💡 Где планирую зарабатывать (первые\n",
            "гипотезы) 1. **AI-боты поддержки** (отвечают на вопросы по документам/сайтам, экономят время\n",
            "сотрудников). 2. **Дашборды с прогнозами продаж** (аналитика + визуализация + инсайты для владельцев\n",
            "бизнеса). 3. **Автоматизация маркетинга и контента** (ускорение аутрича, соцсети, лидогенерация).\n",
            "\n",
            "[3] (сходство=0.000)\n",
            "- Репозиторий создан и оформлен (README + One-pager). --- ## ⚠️ Риски и как их закрываю - **Риск:**\n",
            "распыление внимания. - **Решение:** работать спринтами, фиксировать результат каждую неделю. -\n",
            "**Риск:** отсутствие клиентов/продаж. - **Решение:** ранний аутрич, тестирование офферов, общение с\n",
            "бизнесом. - **Риск:** застрять в технике. - **Решение:** маленькие шаги, готовые шаблоны, разбор с\n",
            "наставником. --- ## 🚀 Следующий шаг - Выбрать трек Спринта 1: **RAG-бот поддержки** или **дашборд\n",
            "продаж**. - Заполнить 2 брифа клиентов (реальных или гипотетических).\n",
            "\n",
            "Подсказка: Сформируй ответ по сути, опираясь на фрагменты выше.\n",
            "\n"
          ]
        }
      ],
      "source": [
        "# === НЕ ТРЕБУЕТ СКАЧИВАНИЯ МОДЕЛЕЙ (работает сразу) ===\n",
        "!pip -q install scikit-learn pypdf\n",
        "\n",
        "import urllib.request, re, textwrap, numpy as np\n",
        "from sklearn.feature_extraction.text import TfidfVectorizer\n",
        "from sklearn.metrics.pairwise import linear_kernel\n",
        "\n",
        "# Аккуратная разбивка текста на фрагменты\n",
        "def chunk_text(text, chunk_size=700, overlap=80):\n",
        "    text = re.sub(r'\\s+', ' ', text).strip()\n",
        "    chunks, start = [], 0\n",
        "    while start < len(text):\n",
        "        end = min(start + chunk_size, len(text))\n",
        "        # стараемся резать по границе предложения\n",
        "        if end < len(text):\n",
        "            dot = text.rfind('.', start, end)\n",
        "            if dot != -1 and dot > start + 100:\n",
        "                end = dot + 1\n",
        "        chunks.append(text[start:end].strip())\n",
        "        start = max(end - overlap, end)\n",
        "    return [c for c in chunks if c]\n",
        "\n",
        "# 1) Берём твой one-pager.md из GitHub (ничего не меняй)\n",
        "RAW_URL = \"https://raw.githubusercontent.com/CHATGPTUA/ai-journey/main/one-pager.md\"\n",
        "text = urllib.request.urlopen(RAW_URL).read().decode(\"utf-8\", errors=\"ignore\")\n",
        "\n",
        "# 2) Режем на кусочки и строим TF-IDF индекс\n",
        "chunks = chunk_text(text, chunk_size=700, overlap=80)\n",
        "vectorizer = TfidfVectorizer(ngram_range=(1,2))  # униграммы+биграммы\n",
        "X = vectorizer.fit_transform(chunks)\n",
        "\n",
        "def retrieve(query, top_k=4):\n",
        "    q_vec = vectorizer.transform([query])\n",
        "    scores = linear_kernel(q_vec, X).ravel()  # косинусная близость\n",
        "    idx = np.argsort(scores)[::-1][:top_k]\n",
        "    return [(float(scores[i]), chunks[i]) for i in idx]\n",
        "\n",
        "def answer_extractive(query, top_k=4):\n",
        "    hits = retrieve(query, top_k=top_k)\n",
        "    print(\"\\nВопрос:\", query)\n",
        "    print(\"\\nНаиболее релевантные фрагменты:\\n\")\n",
        "    for i, (sim, txt) in enumerate(hits):\n",
        "        print(f\"[{i+1}] (сходство={sim:.3f})\")\n",
        "        print(textwrap.fill(txt, 100))\n",
        "        print()\n",
        "    print(\"Подсказка: Сформируй ответ по сути, опираясь на фрагменты выше.\\n\")\n",
        "\n",
        "print(\"Готово! Задавай вопросы по содержимому one-pager.md.\")\n",
        "print(\"Например: Какие мои цели на 6 месяцев?\")\n",
        "print(\"Чтобы выйти, напиши: выход\\n\")\n",
        "\n",
        "while True:\n",
        "    q = input(\"Ваш вопрос: \").strip()\n",
        "    if q.lower() in (\"выход\", \"exit\", \"quit\"):\n",
        "        print(\"Выход. Отличная работа!\")\n",
        "        break\n",
        "    if not q:\n",
        "        continue\n",
        "    answer_extractive(q)\n"
      ]
    }
  ]
}